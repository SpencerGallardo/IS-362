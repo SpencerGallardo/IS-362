{
 "cells": [
  {
   "cell_type": "code",
   "execution_count": 2,
   "metadata": {
    "collapsed": true
   },
   "outputs": [],
   "source": [
    "# import numpy and pandas\n",
    "import numpy as np\n",
    "import pandas as pd"
   ]
  },
  {
   "cell_type": "code",
   "execution_count": 3,
   "metadata": {
    "collapsed": true
   },
   "outputs": [],
   "source": [
    "# import the randint function from random\n",
    "from random import randint\n"
   ]
  },
  {
   "cell_type": "code",
   "execution_count": 4,
   "metadata": {
    "collapsed": true
   },
   "outputs": [],
   "source": [
    "# create a funtion to supply random distances between 45 miles \n",
    "# and 75 miles to assign cumulative distances to the aray\n",
    "def getRandDistance():\n",
    "    global odometer \n",
    "    odometer += randint(45,75)\n",
    "    return odometer"
   ]
  },
  {
   "cell_type": "code",
   "execution_count": 8,
   "metadata": {},
   "outputs": [
    {
     "data": {
      "text/plain": [
       "0     68\n",
       "1    130\n",
       "2    197\n",
       "3    244\n",
       "4    311\n",
       "5    366\n",
       "6    426\n",
       "7    484\n",
       "dtype: int64"
      ]
     },
     "execution_count": 8,
     "metadata": {},
     "output_type": "execute_result"
    }
   ],
   "source": [
    "# Create a series with the cumulative odometer readings using \n",
    "# the newDistance function to increment it\n",
    "\n",
    "# create a variable that will represent our odometer\n",
    "odometer = 0\n",
    "\n",
    "# initialize the series\n",
    "pdDistance = pd.Series([getRandDistance(),\n",
    "                        getRandDistance(),\n",
    "                        getRandDistance(),\n",
    "                        getRandDistance(),\n",
    "                        getRandDistance(),\n",
    "                        getRandDistance(),\n",
    "                        getRandDistance(),\n",
    "                        getRandDistance()])\n",
    "\n",
    "# output the series\n",
    "pdDistance"
   ]
  },
  {
   "cell_type": "code",
   "execution_count": 9,
   "metadata": {
    "collapsed": true
   },
   "outputs": [],
   "source": [
    "# create a function that returns the difference between a passed\n",
    "# series index and the one before it\n",
    "def getDailyDistance(sIndex):\n",
    "    global pdDistance\n",
    "    if sIndex <= pdDistance.size - 1 and sIndex >= 0:\n",
    "        if sIndex > 0:\n",
    "            return pdDistance[sIndex] - pdDistance[sIndex-1]\n",
    "        else:\n",
    "            return pdDistance[0]\n",
    "    else:\n",
    "        print('Error: getDailyDistance, index is out of range. Returning last element.')\n",
    "        return pdDistance[pdDistance.size-1]"
   ]
  },
  {
   "cell_type": "code",
   "execution_count": 10,
   "metadata": {},
   "outputs": [
    {
     "name": "stdout",
     "output_type": "stream",
     "text": [
      "On day 1 you traveled a distanace of 68 miles. Totaling 68 miles traveled.\n",
      "On day 2 you traveled a distanace of 62 miles. Totaling 130 miles traveled.\n",
      "On day 3 you traveled a distanace of 67 miles. Totaling 197 miles traveled.\n",
      "On day 4 you traveled a distanace of 47 miles. Totaling 244 miles traveled.\n",
      "On day 5 you traveled a distanace of 67 miles. Totaling 311 miles traveled.\n",
      "On day 6 you traveled a distanace of 55 miles. Totaling 366 miles traveled.\n",
      "On day 7 you traveled a distanace of 60 miles. Totaling 426 miles traveled.\n",
      "On day 8 you traveled a distanace of 58 miles. Totaling 484 miles traveled.\n"
     ]
    }
   ],
   "source": [
    "# return a Series from the distance object of the individual daily distances\n",
    "for i in range(0, pdDistance.size):\n",
    "    print('On day',i+1, 'you traveled a distanace of', getDailyDistance(i), 'miles.', 'Totaling',pdDistance[i],'miles traveled.')"
   ]
  },
  {
   "cell_type": "code",
   "execution_count": null,
   "metadata": {
    "collapsed": true
   },
   "outputs": [],
   "source": []
  }
 ],
 "metadata": {
  "kernelspec": {
   "display_name": "Python 3",
   "language": "python",
   "name": "python3"
  },
  "language_info": {
   "codemirror_mode": {
    "name": "ipython",
    "version": 3
   },
   "file_extension": ".py",
   "mimetype": "text/x-python",
   "name": "python",
   "nbconvert_exporter": "python",
   "pygments_lexer": "ipython3",
   "version": "3.6.1"
  }
 },
 "nbformat": 4,
 "nbformat_minor": 2
}
