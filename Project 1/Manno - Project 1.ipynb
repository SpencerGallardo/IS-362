{
 "cells": [
  {
   "cell_type": "markdown",
   "metadata": {},
   "source": [
    "# Manno - is362 Project 1\n",
    "## The Data Set\n",
    "the data set I'm using looks like this:\n",
    "\n",
    "<table>\n",
    "<thead><tr><th>city</th><th>alaska_on_time</th><th>alaska_delayed</th><th>amwest_on_time</th><th>amwest_delayed</th></tr></thead><tbody>\n",
    " <tr><td>Los Angeles</td><td>497</td><td>62</td><td>694</td><td>117</td></tr>\n",
    " <tr><td>Phoenix</td><td>221</td><td>12</td><td>4840</td><td>415</td></tr>\n",
    " <tr><td>San Diego</td><td>212</td><td>20</td><td>383</td><td>65</td></tr>\n",
    " <tr><td>San Francisco</td><td>503</td><td>102</td><td>320</td><td>129</td></tr>\n",
    " <tr><td>Seattle</td><td>1841</td><td>305</td><td>201</td><td>61</td></tr>\n",
    "</tbody></table>\n",
    "\n",
    "I've formatted it this way because it will make it easier to perform the comparrisons I would like to on the data."
   ]
  },
  {
   "cell_type": "code",
   "execution_count": 1,
   "metadata": {
    "collapsed": true
   },
   "outputs": [],
   "source": [
    "# import numpy and pandas\n",
    "import numpy as np\n",
    "import pandas as pd"
   ]
  },
  {
   "cell_type": "code",
   "execution_count": 2,
   "metadata": {
    "collapsed": true
   },
   "outputs": [],
   "source": [
    "# bring in matplotlib for graphics\n",
    "import matplotlib.pyplot as plt\n",
    "%matplotlib inline"
   ]
  },
  {
   "cell_type": "code",
   "execution_count": 3,
   "metadata": {
    "collapsed": true
   },
   "outputs": [],
   "source": [
    "# read the csv into the dataframe\n",
    "df = pd.read_csv('data/arrivals.csv')"
   ]
  },
  {
   "cell_type": "markdown",
   "metadata": {},
   "source": [
    "## Summary Comparison\n",
    "The first comparrison I am performing is to sum up the total number of all flights for both airlines and getting the percentage of flights that are delayed. I will be calculating the following values for each carrier:\n",
    "\n",
    "**Total Flights**: This will be calculated by adding the sum of ontime flights to the sum of delayed flights for each carrier.\n",
    "\n",
    "**Total Delayed Flights**: This will be calculated by summing up the number of delayed flights for each carrier.\n",
    "\n",
    "**Delayed Flights Percentage**: This will be calculated by dividing the **Total Delayed Flights** by the **Total Flights** for each carrier. The **Delayed Flights Percentage** will represent the percentage of flights that are delayed for each carrier."
   ]
  },
  {
   "cell_type": "code",
   "execution_count": 4,
   "metadata": {},
   "outputs": [
    {
     "data": {
      "text/plain": [
       "13.271523178807948"
      ]
     },
     "execution_count": 4,
     "metadata": {},
     "output_type": "execute_result"
    }
   ],
   "source": [
    "# calculate the Delayed Flights Percentage for Alaska\n",
    "df.alaska_delayed.sum()/(df.alaska_on_time.sum() + df.alaska_delayed.sum())*100"
   ]
  },
  {
   "cell_type": "code",
   "execution_count": 5,
   "metadata": {},
   "outputs": [
    {
     "data": {
      "text/plain": [
       "10.892733564013842"
      ]
     },
     "execution_count": 5,
     "metadata": {},
     "output_type": "execute_result"
    }
   ],
   "source": [
    "# calculate the Delayed Flights Percentage for AM West\n",
    "df.amwest_delayed.sum()/(df.amwest_on_time.sum() + df.amwest_delayed.sum())*100"
   ]
  },
  {
   "cell_type": "markdown",
   "metadata": {},
   "source": [
    "## Summary Comparison Results\n",
    "The results of the initial comparrison are:\n",
    "\n",
    "**Alaska's Delayed Flights Percentage = ** 13.3\n",
    "\n",
    "**AM West's Delayed Flights Percentage = ** 10.9\n",
    "\n",
    "Due to it's lower **Delayed Flight Percentage**, it would appear AM West is the better carrier to fly.\n",
    "\n",
    "\n",
    "## Detailed Comparison\n",
    "The next comparrison I am performing is to calculate the **Delayed Flight Pecentage** for each city individually.\n",
    "\n",
    "**Total Flights**: This will be calculated by adding the number ontime flights to the number of delayed flights in each city for each carrier.\n",
    "\n",
    "**Delayed Flights Percentage**: This will be calculated by dividing the delayed flights in each city by the **Total Flights** in each city for each carrier. The **Delayed Flights Percentage** will represent the percentage of flights that are delayed in each city for each carrier."
   ]
  },
  {
   "cell_type": "code",
   "execution_count": 6,
   "metadata": {},
   "outputs": [
    {
     "data": {
      "text/plain": [
       "0    11.091234\n",
       "1     5.150215\n",
       "2     8.620690\n",
       "3    16.859504\n",
       "4    14.212488\n",
       "dtype: float64"
      ]
     },
     "execution_count": 6,
     "metadata": {},
     "output_type": "execute_result"
    }
   ],
   "source": [
    "# create a series to hold the delay percentages\n",
    "alaska_delay_percent = pd.Series(df.alaska_delayed/(df.alaska_on_time + df.alaska_delayed)*100)\n",
    "alaska_delay_percent"
   ]
  },
  {
   "cell_type": "code",
   "execution_count": 7,
   "metadata": {},
   "outputs": [
    {
     "data": {
      "text/plain": [
       "0    14.426634\n",
       "1     7.897241\n",
       "2    14.508929\n",
       "3    28.730512\n",
       "4    23.282443\n",
       "dtype: float64"
      ]
     },
     "execution_count": 7,
     "metadata": {},
     "output_type": "execute_result"
    }
   ],
   "source": [
    "amwest_delay_percent = pd.Series(df.amwest_delayed/(df.amwest_on_time + df.amwest_delayed)*100)\n",
    "amwest_delay_percent"
   ]
  },
  {
   "cell_type": "code",
   "execution_count": 8,
   "metadata": {},
   "outputs": [
    {
     "data": {
      "text/html": [
       "<div>\n",
       "<style>\n",
       "    .dataframe thead tr:only-child th {\n",
       "        text-align: right;\n",
       "    }\n",
       "\n",
       "    .dataframe thead th {\n",
       "        text-align: left;\n",
       "    }\n",
       "\n",
       "    .dataframe tbody tr th {\n",
       "        vertical-align: top;\n",
       "    }\n",
       "</style>\n",
       "<table border=\"1\" class=\"dataframe\">\n",
       "  <thead>\n",
       "    <tr style=\"text-align: right;\">\n",
       "      <th></th>\n",
       "      <th>city</th>\n",
       "      <th>alaska_on_time</th>\n",
       "      <th>alaska_delayed</th>\n",
       "      <th>amwest_on_time</th>\n",
       "      <th>amwest_delayed</th>\n",
       "      <th>alaska_delay_percent</th>\n",
       "      <th>amwest_delay_percent</th>\n",
       "    </tr>\n",
       "  </thead>\n",
       "  <tbody>\n",
       "    <tr>\n",
       "      <th>0</th>\n",
       "      <td>Los Angeles</td>\n",
       "      <td>497</td>\n",
       "      <td>62</td>\n",
       "      <td>694</td>\n",
       "      <td>117</td>\n",
       "      <td>11.091234</td>\n",
       "      <td>14.426634</td>\n",
       "    </tr>\n",
       "    <tr>\n",
       "      <th>1</th>\n",
       "      <td>Phoenix</td>\n",
       "      <td>221</td>\n",
       "      <td>12</td>\n",
       "      <td>4840</td>\n",
       "      <td>415</td>\n",
       "      <td>5.150215</td>\n",
       "      <td>7.897241</td>\n",
       "    </tr>\n",
       "    <tr>\n",
       "      <th>2</th>\n",
       "      <td>San Diego</td>\n",
       "      <td>212</td>\n",
       "      <td>20</td>\n",
       "      <td>383</td>\n",
       "      <td>65</td>\n",
       "      <td>8.620690</td>\n",
       "      <td>14.508929</td>\n",
       "    </tr>\n",
       "    <tr>\n",
       "      <th>3</th>\n",
       "      <td>San Francisco</td>\n",
       "      <td>503</td>\n",
       "      <td>102</td>\n",
       "      <td>320</td>\n",
       "      <td>129</td>\n",
       "      <td>16.859504</td>\n",
       "      <td>28.730512</td>\n",
       "    </tr>\n",
       "    <tr>\n",
       "      <th>4</th>\n",
       "      <td>Seattle</td>\n",
       "      <td>1841</td>\n",
       "      <td>305</td>\n",
       "      <td>201</td>\n",
       "      <td>61</td>\n",
       "      <td>14.212488</td>\n",
       "      <td>23.282443</td>\n",
       "    </tr>\n",
       "  </tbody>\n",
       "</table>\n",
       "</div>"
      ],
      "text/plain": [
       "            city  alaska_on_time  alaska_delayed  amwest_on_time  \\\n",
       "0    Los Angeles             497              62             694   \n",
       "1        Phoenix             221              12            4840   \n",
       "2      San Diego             212              20             383   \n",
       "3  San Francisco             503             102             320   \n",
       "4        Seattle            1841             305             201   \n",
       "\n",
       "   amwest_delayed  alaska_delay_percent  amwest_delay_percent  \n",
       "0             117             11.091234             14.426634  \n",
       "1             415              5.150215              7.897241  \n",
       "2              65              8.620690             14.508929  \n",
       "3             129             16.859504             28.730512  \n",
       "4              61             14.212488             23.282443  "
      ]
     },
     "execution_count": 8,
     "metadata": {},
     "output_type": "execute_result"
    }
   ],
   "source": [
    "df['alaska_delay_percent'] = alaska_delay_percent\n",
    "df['amwest_delay_percent'] = amwest_delay_percent\n",
    "df"
   ]
  },
  {
   "cell_type": "code",
   "execution_count": 9,
   "metadata": {},
   "outputs": [
    {
     "data": {
      "text/plain": [
       "<matplotlib.axes._subplots.AxesSubplot at 0x9234cc0>"
      ]
     },
     "execution_count": 9,
     "metadata": {},
     "output_type": "execute_result"
    },
    {
     "data": {
      "image/png": "[encoded data removed]",
      "text/plain": [
       "<matplotlib.figure.Figure at 0x92346d8>"
      ]
     },
     "metadata": {},
     "output_type": "display_data"
    }
   ],
   "source": [
    "# Plot the delayed flight percentages in each city for each carrier.\n",
    "df.plot(x='city',y=['alaska_delay_percent','amwest_delay_percent'])"
   ]
  },
  {
   "cell_type": "markdown",
   "metadata": {},
   "source": [
    "## Detailed Comparison Results\n",
    "The results of the detailed comparrison from the chart are clear in each city AM West has a higher percentage of delayed flights than Alaska does. This mean that Alaska is the better carrier to fly with regards to arriving on time. This is interesting because when calculating the overal delayed percentage AM West is the better carrier. Howerver, when using the delayed percentage for individual cities it is clear that if arriving on time is important then Alaska if the airline to fly."
   ]
  },
  {
   "cell_type": "code",
   "execution_count": null,
   "metadata": {
    "collapsed": true
   },
   "outputs": [],
   "source": []
  }
 ],
 "metadata": {
  "kernelspec": {
   "display_name": "Python 3",
   "language": "python",
   "name": "python3"
  },
  "language_info": {
   "codemirror_mode": {
    "name": "ipython",
    "version": 3
   },
   "file_extension": ".py",
   "mimetype": "text/x-python",
   "name": "python",
   "nbconvert_exporter": "python",
   "pygments_lexer": "ipython3",
   "version": "3.6.1"
  }
 },
 "nbformat": 4,
 "nbformat_minor": 2
}
