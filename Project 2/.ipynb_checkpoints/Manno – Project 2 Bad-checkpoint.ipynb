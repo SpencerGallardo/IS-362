{
 "cells": [
  {
   "cell_type": "markdown",
   "metadata": {},
   "source": [
    "# Project 2"
   ]
  },
  {
   "cell_type": "code",
   "execution_count": 84,
   "metadata": {
    "collapsed": true
   },
   "outputs": [],
   "source": [
    "import pandas as pd\n",
    "#set some pandas options controling output format\n",
    "pd.set_option('display.notebook_repr_html',True) # output as flat text and not HTML\n",
    "pd.set_option('display.max_rows', 10) # this is the maximum number of rows we will display"
   ]
  },
  {
   "cell_type": "code",
   "execution_count": 104,
   "metadata": {
    "collapsed": true
   },
   "outputs": [],
   "source": [
    "# read the csv into a dataframe\n",
    "users = pd.read_csv('data/IS-362_Untidy_Data.csv', dtype={'postal_code': str, 'city': str})\n",
    "users.drop(['first_name','last_name', 'gender', 'email','address','phone_number'], inplace=True, axis=1)\n",
    "users.city = users.city.str.upper()\n",
    "users.city = users.city.str.strip()\n",
    "users.city.str.encode('utf-8')\n",
    "users = users.rename(columns={'city': 'city'}) "
   ]
  },
  {
   "cell_type": "code",
   "execution_count": 105,
   "metadata": {},
   "outputs": [
    {
     "name": "stdout",
     "output_type": "stream",
     "text": [
      "       id             city                 state postal_code\n",
      "0       1       FORT WAYNE               Indiana       46814\n",
      "1       2        LITTLETON              Colorado         NaN\n",
      "2       3    NEW YORK CITY              New York       10175\n",
      "3       4           TUCSON               Arizona       85743\n",
      "4       5           CANTON                  Ohio       44720\n",
      "..    ...              ...                   ...         ...\n",
      "995   996           FRESNO            California       93704\n",
      "996   997  FORT LAUDERDALE               Florida       33310\n",
      "997   998       WASHINGTON  District of Columbia       20099\n",
      "998   999          PHOENIX               Arizona       85035\n",
      "999  1000       LOUISVILLE              Kentucky       40256\n",
      "\n",
      "[1000 rows x 4 columns]\n"
     ]
    }
   ],
   "source": [
    "# Display the columns in the dataframe, and get a peak at how it's formatted\n",
    "print(users)"
   ]
  },
  {
   "cell_type": "code",
   "execution_count": 106,
   "metadata": {},
   "outputs": [
    {
     "name": "stdout",
     "output_type": "stream",
     "text": [
      "       id             city                 state postal_code\n",
      "0       1       FORT WAYNE               Indiana       46814\n",
      "1       2        LITTLETON              Colorado         NaN\n",
      "2       3    NEW YORK CITY              New York       10175\n",
      "3       4           TUCSON               Arizona       85743\n",
      "4       5           CANTON                  Ohio       44720\n",
      "..    ...              ...                   ...         ...\n",
      "995   996           FRESNO            California       93704\n",
      "996   997  FORT LAUDERDALE               Florida       33310\n",
      "997   998       WASHINGTON  District of Columbia       20099\n",
      "998   999          PHOENIX               Arizona       85035\n",
      "999  1000       LOUISVILLE              Kentucky       40256\n",
      "\n",
      "[992 rows x 4 columns]\n"
     ]
    }
   ],
   "source": [
    "# get rid of rows without a city, state, and postal code\n",
    "users.dropna(subset=['city', 'state', 'postal_code'], how='all', inplace=True)\n",
    "users[(users.city == 'NEW YORK')] = 'NEW YORK CITY'\n",
    "users.city = users.city.astype(str)\n",
    "print(users)"
   ]
  },
  {
   "cell_type": "code",
   "execution_count": 77,
   "metadata": {
    "collapsed": true
   },
   "outputs": [],
   "source": [
    "# read in the zipcode database from http://federalgovernmentzipcodes.us/\n",
    "zips = pd.read_csv('http://federalgovernmentzipcodes.us/free-zipcode-database-Primary.csv', dtype={'Zipcode': str, 'City': str})\n",
    "zips.drop(['ZipCodeType','LocationType', 'Lat', 'Long','Location','Decommisioned','TaxReturnsFiled','EstimatedPopulation','TotalWages'], inplace=True, axis=1)"
   ]
  },
  {
   "cell_type": "code",
   "execution_count": 111,
   "metadata": {},
   "outputs": [
    {
     "name": "stdout",
     "output_type": "stream",
     "text": [
      "      postal_code         city state\n",
      "0           00705     AIBONITO    PR\n",
      "1           00610       ANASCO    PR\n",
      "2           00611      ANGELES    PR\n",
      "3           00612      ARECIBO    PR\n",
      "4           00601     ADJUNTAS    PR\n",
      "...           ...          ...   ...\n",
      "42517       34009          APO    AA\n",
      "42518       34010          APO    AA\n",
      "42519       34001          APO    AA\n",
      "42520       34071          APO    AA\n",
      "42521       97475  SPRINGFIELD    OR\n",
      "\n",
      "[42522 rows x 3 columns]\n"
     ]
    }
   ],
   "source": [
    "# Display the columns in the dataframe, and get a peak at how it's formatted\n",
    "zips = zips.rename(columns={'City': 'city', 'Zipcode': 'postal_code', 'State': 'state'})\n",
    "zips.city = zips.city.str.upper()\n",
    "zips.city = zips.city.str.strip()\n",
    "zips.city = zips.city.astype(str)\n",
    "zips.city.str.encode('utf-8')\n",
    "zips[(zips.city == 'NEW YORK')] = 'NEW YORK CITY'\n",
    "print(zips)"
   ]
  },
  {
   "cell_type": "code",
   "execution_count": 112,
   "metadata": {},
   "outputs": [
    {
     "name": "stdout",
     "output_type": "stream",
     "text": [
      "        id        city  state_x postal_code_x postal_code_y state_y\n",
      "0        1  FORT WAYNE  Indiana         46814         46801      IN\n",
      "1        1  FORT WAYNE  Indiana         46814         46802      IN\n",
      "2        1  FORT WAYNE  Indiana         46814         46803      IN\n",
      "3        1  FORT WAYNE  Indiana         46814         46804      IN\n",
      "4        1  FORT WAYNE  Indiana         46814         46805      IN\n",
      "...    ...         ...      ...           ...           ...     ...\n",
      "61237  995       BRYAN    Texas         77806         77803      TX\n",
      "61238  995       BRYAN    Texas         77806         77805      TX\n",
      "61239  995       BRYAN    Texas         77806         77806      TX\n",
      "61240  995       BRYAN    Texas         77806         77807      TX\n",
      "61241  995       BRYAN    Texas         77806         77808      TX\n",
      "\n",
      "[61242 rows x 6 columns]\n"
     ]
    }
   ],
   "source": [
    "users.city = users.city.astype(str)\n",
    "zips.city = zips.city.astype(str)\n",
    "# merged = pd.merge(users, zips, on='city', how='inner')\n",
    "print(users.merge(zips, on='city', how='inner'))\n"
   ]
  },
  {
   "cell_type": "code",
   "execution_count": null,
   "metadata": {
    "collapsed": true
   },
   "outputs": [],
   "source": []
  },
  {
   "cell_type": "code",
   "execution_count": null,
   "metadata": {
    "collapsed": true
   },
   "outputs": [],
   "source": []
  }
 ],
 "metadata": {
  "kernelspec": {
   "display_name": "Python 3",
   "language": "python",
   "name": "python3"
  },
  "language_info": {
   "codemirror_mode": {
    "name": "ipython",
    "version": 3
   },
   "file_extension": ".py",
   "mimetype": "text/x-python",
   "name": "python",
   "nbconvert_exporter": "python",
   "pygments_lexer": "ipython3",
   "version": "3.6.1"
  }
 },
 "nbformat": 4,
 "nbformat_minor": 2
}
